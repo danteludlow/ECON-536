{
 "cells": [
  {
   "cell_type": "code",
   "execution_count": 9,
   "id": "b1bb4358",
   "metadata": {},
   "outputs": [
    {
     "name": "stdout",
     "output_type": "stream",
     "text": [
      "Data_summary:\n",
      "           qmaize      qrice        qbeef       qfish      pmaize      price   \\\n",
      "count  125.000000  125.000000  125.000000  125.000000  125.000000  125.000000   \n",
      "mean     8.489520    4.569680    2.650000    3.371600  120.880000  220.240000   \n",
      "std      5.896875    3.510744    2.187694    2.559905   47.247051   19.856907   \n",
      "min      1.000000    0.400000    0.140000    0.080000   40.000000  150.000000   \n",
      "25%      4.400000    2.050000    1.110000    1.580000  100.000000  220.000000   \n",
      "50%      7.000000    3.480000    1.810000    2.630000  100.000000  220.000000   \n",
      "75%     10.910000    5.910000    3.140000    4.740000  120.000000  230.000000   \n",
      "max     30.000000   17.390000   10.670000   15.790000  250.000000  260.000000   \n",
      "\n",
      "            pbeef       pfish   Expenditure  \n",
      "count  125.000000  125.000000    125.000000  \n",
      "mean   342.160000  335.200000   3918.020000  \n",
      "std     29.827028   75.472704   2004.523523  \n",
      "min    150.000000  160.000000    801.900000  \n",
      "25%    350.000000  280.000000   2439.700000  \n",
      "50%    350.000000  380.000000   3651.400000  \n",
      "75%    350.000000  380.000000   4801.600000  \n",
      "max    400.000000  420.000000  12499.100000  \n",
      "\n"
     ]
    }
   ],
   "source": [
    "# a. Report descriptive statistics of the variables in the data set (minimum, mean,\n",
    "# maximum, and standard deviation).\n",
    "\n",
    "\n",
    "import pandas as pd\n",
    "\n",
    "\n",
    "grub = pd.read_csv('C:\\\\Users\\\\dante\\\\Downloads\\\\HW2 2022.csv', delimiter=',')\n",
    "\n",
    "Data_summary = grub.describe()\n",
    "print(f'Data_summary:\\n{Data_summary}\\n')"
   ]
  },
  {
   "cell_type": "code",
   "execution_count": 10,
   "id": "edd481fd",
   "metadata": {},
   "outputs": [
    {
     "name": "stdout",
     "output_type": "stream",
     "text": [
      "results.summary(): n\\                            OLS Regression Results                            \n",
      "==============================================================================\n",
      "Dep. Variable:                  qbeef   R-squared:                       0.350\n",
      "Model:                            OLS   Adj. R-squared:                  0.339\n",
      "Method:                 Least Squares   F-statistic:                     32.85\n",
      "Date:                Fri, 25 Feb 2022   Prob (F-statistic):           3.87e-12\n",
      "Time:                        09:16:32   Log-Likelihood:                -247.80\n",
      "No. Observations:                 125   AIC:                             501.6\n",
      "Df Residuals:                     122   BIC:                             510.1\n",
      "Df Model:                           2                                         \n",
      "Covariance Type:            nonrobust                                         \n",
      "===============================================================================\n",
      "                  coef    std err          t      P>|t|      [0.025      0.975]\n",
      "-------------------------------------------------------------------------------\n",
      "Intercept       1.6141      1.852      0.872      0.385      -2.051       5.279\n",
      "pbeef          -0.0044      0.005     -0.815      0.417      -0.015       0.006\n",
      "Expenditure     0.0006   7.98e-05      8.095      0.000       0.000       0.001\n",
      "==============================================================================\n",
      "Omnibus:                       21.396   Durbin-Watson:                   2.071\n",
      "Prob(Omnibus):                  0.000   Jarque-Bera (JB):               28.181\n",
      "Skew:                           0.929   Prob(JB):                     7.59e-07\n",
      "Kurtosis:                       4.400   Cond. No.                     5.13e+04\n",
      "==============================================================================\n",
      "\n",
      "Notes:\n",
      "[1] Standard Errors assume that the covariance matrix of the errors is correctly specified.\n",
      "[2] The condition number is large, 5.13e+04. This might indicate that there are\n",
      "strong multicollinearity or other numerical problems.\n",
      "\n"
     ]
    }
   ],
   "source": [
    "# b. Estimate the model with least squares, reporting the coefficient estimates,\n",
    "# standard errors, and t-statistics. Interpret the regression model results (e.g.,\n",
    "# adjusted R2, parameter significance, etc).\n",
    "\n",
    "import statsmodels.formula.api as smf\n",
    "\n",
    "reg = smf.ols(formula=' qbeef ~ pbeef + Expenditure', data=grub)\n",
    "results = reg.fit()\n",
    "print(f'results.summary(): n\\{results.summary()}\\n')\n",
    "\n",
    "# The adjusted R^2 shows that the price of beef and Expenditure explain 33.9% \n",
    "# of the variation in beef quantity. \n",
    "# pbeef is not a statistically significant regressor. Expenditure is, but its\n",
    "# coefficient is rather small. This is likely because the mean expenditure value\n",
    "# is 3918 and the mean qbeef value is only 2.65"
   ]
  },
  {
   "cell_type": "code",
   "execution_count": 11,
   "id": "06b1a439",
   "metadata": {},
   "outputs": [
    {
     "name": "stdout",
     "output_type": "stream",
     "text": [
      "fstat: 32.84588825145802\n",
      "\n",
      "fpval: 3.870701942500866e-12\n",
      "\n"
     ]
    }
   ],
   "source": [
    "# c. Test the null hypothesis that B2=0, B3=0 using an F test for a 0.05 level test.\n",
    "# Report both the test statistic value and the critical value, stating whether or not the\n",
    "# null hypothesis is rejected. Interpret the results.\n",
    "\n",
    "reg = smf.ols(formula=' qbeef ~ pbeef + Expenditure', data=grub)\n",
    "results = reg.fit()\n",
    "\n",
    "hypotheses = ['pbeef = 0', 'Expenditure = 0']\n",
    "ftest = results.f_test(hypotheses)\n",
    "fstat = ftest.statistic[0][0]\n",
    "fpval = ftest.pvalue\n",
    "print(f'fstat: {fstat}\\n')\n",
    "print(f'fpval: {fpval}\\n')\n",
    "\n",
    "# The p value is very small, wich means we reject the null hypothesis"
   ]
  },
  {
   "cell_type": "code",
   "execution_count": 16,
   "id": "065ba384",
   "metadata": {},
   "outputs": [],
   "source": [
    "# d. Investigate the economic meaning of the parameters in the regression from part b\n",
    "# (e.g., marginal effects). Calculate, report, and interpret the results.\n",
    "\n",
    "# For every 1 unit increase in the price of beef, quantity demanded will\n",
    "# decrease by .0044 units.\n",
    "# For every 1 unit increase in Expenditure, quantity demanded of beef will\n",
    "# increase by .0006 units."
   ]
  },
  {
   "cell_type": "code",
   "execution_count": 20,
   "id": "9ebfbd9b",
   "metadata": {},
   "outputs": [
    {
     "name": "stdout",
     "output_type": "stream",
     "text": [
      "elast_summary:          P Elast     E Elast\n",
      "count  34.000000  124.000000\n",
      "mean   -6.372583    7.359883\n",
      "std    22.359644   69.202599\n",
      "min   -87.137931 -224.216471\n",
      "25%    -8.412296    0.000000\n",
      "50%    -2.085818    1.162805\n",
      "75%     3.041115    2.962615\n",
      "max    34.925373  703.713142\n",
      "\n"
     ]
    }
   ],
   "source": [
    "# e.Estimate the price and income elasticities at each data point. Calculate and report\n",
    "# the min, mean, and max of the empirical distributions of the price elasticity and\n",
    "# income elasticity. Interpret the mean elasticities for price and income.\n",
    "\n",
    "grub['% change Q'] = grub['qbeef'].pct_change()\n",
    "grub['% change P'] = grub['pbeef'].pct_change()\n",
    "grub['% change E'] = grub['Expenditure'].pct_change()\n",
    "\n",
    "grub['P Elast'] = grub['% change Q'] / grub['% change P']\n",
    "grub['E Elast'] = grub['% change Q'] / grub['% change E']\n",
    "\n",
    "elast = grub[['P Elast', 'E Elast']]\n",
    "\n",
    "pd.set_option('mode.chained_assignment', None)\n",
    "\n",
    "elast.replace([np.inf, -np.inf], np.nan, inplace=True)\n",
    "elast.dropna()\n",
    "\n",
    "elast_summary = elast.describe()\n",
    "print(f'elast_summary: {elast_summary}\\n')"
   ]
  },
  {
   "cell_type": "code",
   "execution_count": 25,
   "id": "67e4ec13",
   "metadata": {},
   "outputs": [
    {
     "name": "stdout",
     "output_type": "stream",
     "text": [
      "-0.5681147169811323\n",
      "0.8870988679245283\n"
     ]
    }
   ],
   "source": [
    "# f. Estimate the price and income elasticities at the mean of the data points.\n",
    "# Compare these results to those in part e.\n",
    "\n",
    "p_elast_at_mean = (342.16/2.65)*(-0.0044) \n",
    "print(p_elast_at_mean)\n",
    "\n",
    "income_elast_at_mean = (3918.02/2.65)*(.0006) \n",
    "print(income_elast_at_mean)\n",
    "\n",
    "# These values are much closer to 0 than the mean elasticities in part e."
   ]
  },
  {
   "cell_type": "code",
   "execution_count": null,
   "id": "6ecd11ac",
   "metadata": {},
   "outputs": [],
   "source": []
  }
 ],
 "metadata": {
  "kernelspec": {
   "display_name": "Python 3",
   "language": "python",
   "name": "python3"
  },
  "language_info": {
   "codemirror_mode": {
    "name": "ipython",
    "version": 3
   },
   "file_extension": ".py",
   "mimetype": "text/x-python",
   "name": "python",
   "nbconvert_exporter": "python",
   "pygments_lexer": "ipython3",
   "version": "3.8.8"
  }
 },
 "nbformat": 4,
 "nbformat_minor": 5
}
