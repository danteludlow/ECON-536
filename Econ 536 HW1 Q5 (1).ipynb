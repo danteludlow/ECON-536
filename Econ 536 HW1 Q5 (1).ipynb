{
 "cells": [
  {
   "cell_type": "code",
   "execution_count": 3,
   "id": "d4710c9c",
   "metadata": {},
   "outputs": [
    {
     "name": "stdout",
     "output_type": "stream",
     "text": [
      "resulta: \n",
      "[[0.91681797]\n",
      " [0.24828587]\n",
      " [0.75203297]]\n",
      "\n",
      "resultb: \n",
      "[[0.00027744]]\n",
      "\n",
      "resultc: \n",
      "[[1.70589691]\n",
      " [1.85897598]\n",
      " [1.26705526]]\n",
      "\n"
     ]
    }
   ],
   "source": [
    "# 5. Consider the general linear model (GLM), Yi = B1 + B2X2i + B3X3i + ei\n",
    "# for i=1,..,N=100 observations where ei ~ N(0,sigma^2). The following information \n",
    "# from the data is provided to you:\n",
    "\n",
    "# y'y= 288.93382\n",
    "\n",
    "# x'y= [165.47200,\n",
    "#       180.32067,\n",
    "#       122.90436]\n",
    "\n",
    "# (x'x)^-1 = [.06156, -.05020, -.00177,\n",
    "#            -.05020, .09709, -.07284,\n",
    "#            -.00177, -.07284, .11537]\n",
    "\n",
    "# a. Calculate and report estimates for B1 hat, B2 hat, B3 hat\n",
    "\n",
    "import numpy as np\n",
    "\n",
    "xprime_xi = np.array([[.06156, -.05020, -.00177],\n",
    "            [-.05020, .09709, -.07284],\n",
    "            [-.00177, -.07284, .11537]])\n",
    "xprime_y = np.array ([[165.47200],\n",
    "                    [180.32067],\n",
    "                    [122.90436]])\n",
    "\n",
    "resulta = xprime_xi @ xprime_y\n",
    "print(f'resulta: \\n{resulta}\\n')\n",
    "\n",
    "# b. Calculate and report an estimate for sigma^2\n",
    "\n",
    "yprime_y = 288.93382\n",
    "\n",
    "n = 100\n",
    "\n",
    "xprime_x = np.linalg.inv(xprime_xi)\n",
    "resulta_prime = np.transpose(resulta)\n",
    "\n",
    "resultb = (yprime_y - 2*(resulta_prime) @ xprime_y + resulta_prime @ xprime_x @ resulta) / (n-3)\n",
    "print(f'resultb: \\n{resultb}\\n')\n",
    "\n",
    "# c. Calculate an estimate for the standard errors of B1 hat, B2 hat, B3 hat\n",
    "\n",
    "resultc = xprime_y/(n-3)\n",
    "print(f'resultc: \\n{resultc}\\n')"
   ]
  },
  {
   "cell_type": "code",
   "execution_count": null,
   "id": "9ec21fcd",
   "metadata": {},
   "outputs": [],
   "source": []
  }
 ],
 "metadata": {
  "kernelspec": {
   "display_name": "Python 3",
   "language": "python",
   "name": "python3"
  },
  "language_info": {
   "codemirror_mode": {
    "name": "ipython",
    "version": 3
   },
   "file_extension": ".py",
   "mimetype": "text/x-python",
   "name": "python",
   "nbconvert_exporter": "python",
   "pygments_lexer": "ipython3",
   "version": "3.8.8"
  }
 },
 "nbformat": 4,
 "nbformat_minor": 5
}
